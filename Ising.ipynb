{
  "nbformat": 4,
  "nbformat_minor": 0,
  "metadata": {
    "kernelspec": {
      "display_name": "Python 3",
      "language": "python",
      "name": "python3"
    },
    "language_info": {
      "codemirror_mode": {
        "name": "ipython",
        "version": 3
      },
      "file_extension": ".py",
      "mimetype": "text/x-python",
      "name": "python",
      "nbconvert_exporter": "python",
      "pygments_lexer": "ipython3",
      "version": "3.7.3"
    },
    "colab": {
      "name": "Ising.ipynb",
      "provenance": [],
      "include_colab_link": true
    }
  },
  "cells": [
    {
      "cell_type": "markdown",
      "metadata": {
        "id": "view-in-github",
        "colab_type": "text"
      },
      "source": [
        "<a href=\"https://colab.research.google.com/github/jhymel/2D-Ising-Model/blob/main/Ising.ipynb\" target=\"_parent\"><img src=\"https://colab.research.google.com/assets/colab-badge.svg\" alt=\"Open In Colab\"/></a>"
      ]
    },
    {
      "cell_type": "code",
      "metadata": {
        "id": "MPOg5cff741H"
      },
      "source": [
        "import numpy as np\n",
        "from numpy.random import randint as randint\n",
        "from numpy.random import rand as rand\n",
        "import matplotlib.pyplot as plt"
      ],
      "execution_count": 18,
      "outputs": []
    },
    {
      "cell_type": "code",
      "metadata": {
        "id": "GvTZ21tk741H"
      },
      "source": [
        "#J = 0.4407\n",
        "J=1.0\n",
        "beta = 0.4407  # beta = 1 / (kB * T), work in these units\n",
        "N = 20   # 2D lattice is N x N\n",
        "Nsteps = 100000 # number of Montecarlo steps\n",
        "n_snap = 4 # number of snapshots to store, must be even number (see code below)\n",
        "freq_store = Nsteps/n_snap # frequency to store trajectory snapshot\n",
        "m_start = -1  # -1 = start all spin down, 0 = start random, +1 = start all spin up\n",
        "equil_fraction = 0.3 # throw out this fraction of initial simulation\n",
        "Nequil = int(equil_fraction*Nsteps)\n",
        "lattice_spin=[]\n",
        "freq_average = N**2"
      ],
      "execution_count": 35,
      "outputs": []
    },
    {
      "cell_type": "code",
      "metadata": {
        "id": "sHLMXX-M741I"
      },
      "source": [
        "# This gives the energy for spin Si, with lattice indices i_x, i_y, remember\n",
        "# Python indexing starts at 0, so 0 <= i_x, i_y <= (N-1)\n",
        "def Energy_Si(i_x,i_y):\n",
        "    Si = lattice_spin[i_x][i_y] # this is either up (+1) or down (-1)\n",
        "\n",
        "    # here we use a trick for periodic boundary conditions, i.e. so that\n",
        "    # spins on the edge of the lattice interact with spins at the start of\n",
        "    # the lattice.  To do this, we use the modulo operator \"%\", which gives\n",
        "    # remainder, and only affects the beginning and end spins in our usage\n",
        "    # we want the beginning spin 0 to interact with the last spin, N-1\n",
        "    # so we use the fact that N % N = 0, and (-1) % N = N - 1\n",
        "\n",
        "    Ei = 0.0 # initialize\n",
        "\n",
        "    Ei = Ei - J * Si * lattice_spin[(i_x+1)%N][i_y] # interaction with spin to the right \n",
        "    Ei = Ei - J * Si * lattice_spin[(i_x-1)%N][i_y] # interaction with spin to the left \n",
        "    Ei = Ei - J * Si * lattice_spin[i_x][(i_y+1)%N] # interaction with spin above \n",
        "    Ei = Ei - J * Si * lattice_spin[i_x][(i_y-1)%N] # interaction with spin below \n",
        "\n",
        "    return Ei\n",
        "\n",
        "def Energy_Total():\n",
        "    E_tot = 0.0\n",
        "    for i in range(N):\n",
        "        for j in range(N):\n",
        "            E_tot += Energy_Si(i,j)\n",
        "    E_tot /= 2\n",
        "\n",
        "    return E_tot\n"
      ],
      "execution_count": 36,
      "outputs": []
    },
    {
      "cell_type": "code",
      "metadata": {
        "id": "0-0H0oDu741I"
      },
      "source": [
        "plt.ioff()\n",
        "fig, axs = plt.subplots(int(n_snap/2), int(n_snap/2), figsize=(10,10), dpi=100)\n",
        "plt.close(fig)\n",
        "\n",
        "# Don't need to worry about the details here, just use it!\n",
        "def Store_Snapshot( i_snap, i_step ):\n",
        "    # we need to turn the \"lattice_spin\" list into a numpy array for plotting\n",
        "    spin_array = np.array(lattice_spin)\n",
        "    X, Y = np.meshgrid(range(N), range(N))\n",
        "    \n",
        "    ax = axs[(int(i_snap-1)//2)][(i_snap-1)%2]\n",
        "    plt.setp(ax.get_yticklabels(), visible=False)\n",
        "    plt.setp(ax.get_xticklabels(), visible=False)\n",
        "    ax.pcolormesh(X, Y, spin_array, cmap=plt.cm.RdBu)\n",
        "    ax.set_title('Moves=%d'%i_step)"
      ],
      "execution_count": 37,
      "outputs": []
    },
    {
      "cell_type": "code",
      "metadata": {
        "id": "JmRGjMss741I"
      },
      "source": [
        "if m_start == -1:  # initialize all spin down\n",
        "    lattice_spin=[[-1 for i_x in range(N)] for i_y in range(N)]\n",
        "elif m_start == 0: # initialize all random, this will fill either -1 or 1, since 2*randint(2) gives either 0 or 2.\n",
        "    lattice_spin=[[(2*randint(2)-1) for i_x in range(N)] for i_y in range(N)]\n",
        "elif m_start == 1: # initialize all spin up\n",
        "    lattice_spin=[[1 for i_x in range(N)] for i_y in range(N)]\n",
        "else:\n",
        "    print (\" value of m_start not recognized \")\n",
        "    sys.exit(0)"
      ],
      "execution_count": 38,
      "outputs": []
    },
    {
      "cell_type": "code",
      "metadata": {
        "colab": {
          "base_uri": "https://localhost:8080/",
          "height": 923
        },
        "id": "1Pn5epr6741I",
        "outputId": "526c4b78-c8f3-4557-8c9d-c0acf0950af1"
      },
      "source": [
        "#********************** Now use Monte Carlo to flip spins, run Nsteps number of MC moves\n",
        "accept_count= 0 # keep track of how many moves are accepted\n",
        "snap_count=0  # number of snapshots stored\n",
        "mag_t_sum = 0 # total magnetization across timesteps \n",
        "energy_t_sum = 0 # total energy across timesteps\n",
        "energy_squared_t_sum = 0 # total energy^2 across timesteps\n",
        "\n",
        "for i_step in range(Nsteps):\n",
        "    # randomly choose spin, given by lattice position i_x, i_y\n",
        "    i_x = randint(0,N) # this give 0<= i_x <= N-1\n",
        "    i_y = randint(0,N) # same comment\n",
        "    E_i = Energy_Si(i_x,i_y) # energy of spin in current state\n",
        "    E_f = -E_i   # flipping spin gives negative energy\n",
        "    deltaE = E_f - E_i # energy change for spin flip\n",
        "\n",
        "    # Metropolic Algorithm for accepting moves (detailed balance)\n",
        "    if deltaE < 0:  # accept move if it lowers system energy\n",
        "         lattice_spin[i_x][i_y] *= -1 # flip spin by multiplying current value by -1\n",
        "         accept_count += 1  #increment\n",
        "    else:\n",
        "         boltz=np.exp(-beta*deltaE)# boltzmann factor, use exponential from numpy  \n",
        "         randfrac=rand() # random real between [0,1)\n",
        "         if randfrac < boltz:  # accept move with this probability\n",
        "              lattice_spin[i_x][i_y] *= -1\n",
        "              accept_count += 1   #increment\n",
        "    \n",
        "    if i_step + 1 > Nequil:\n",
        "        mag_t_sum += np.sum(np.array(lattice_spin))\n",
        "    #********** ADD Any averaging here .... ****************\n",
        "    # need to define an averaging frequency call freq_average\n",
        "    if (i_step % freq_average) == 0:\n",
        "        # add to average\n",
        "        energy_t_sum += Energy_Total()\n",
        "        energy_squared_t_sum += (Energy_Total()*Energy_Total())\n",
        "        \n",
        "    # decide if we want to store snapshot, use modulo operator\n",
        "    # for some reason, the initial snapshot colors are weird, so skip this one...\n",
        "    if (i_step > 0 ) and ( (i_step == 1) or (i_step % freq_store == 0) ):\n",
        "         snap_count+=1\n",
        "         flag = Store_Snapshot(snap_count,i_step) \n",
        "\n",
        "mag_t_sum /= (Nsteps-Nequil)\n",
        "energy_t_sum /= (Nsteps/freq_average)\n",
        "energy_squared_t_sum /= (Nsteps/freq_average)\n",
        "print(Energy_Total())\n",
        "print(mag_t_sum)\n",
        "print(energy_t_sum)\n",
        "print(energy_t_sum**2)\n",
        "print(energy_squared_t_sum)\n",
        "print(energy_squared_t_sum-(energy_t_sum**2))\n",
        "\n",
        "fig"
      ],
      "execution_count": 39,
      "outputs": [
        {
          "output_type": "stream",
          "text": [
            "-588.0\n",
            "-315.4150285714286\n",
            "-587.456\n",
            "345104.551936\n",
            "347871.36\n",
            "2766.8080639999826\n"
          ],
          "name": "stdout"
        },
        {
          "output_type": "execute_result",
          "data": {
            "image/png": "[encoded data removed]",
            "text/plain": [
              "<Figure size 1000x1000 with 4 Axes>"
            ]
          },
          "metadata": {
            "tags": []
          },
          "execution_count": 39
        }
      ]
    },
    {
      "cell_type": "code",
      "metadata": {
        "colab": {
          "base_uri": "https://localhost:8080/",
          "height": 166
        },
        "id": "wdxw8Fix741I",
        "outputId": "29e09609-79fd-42aa-e5a1-cc4a4a9faf18"
      },
      "source": [
        "print ( \"fraction of moves accepted was:\", frac_accept )\n"
      ],
      "execution_count": 34,
      "outputs": [
        {
          "output_type": "error",
          "ename": "NameError",
          "evalue": "ignored",
          "traceback": [
            "\u001b[0;31m---------------------------------------------------------------------------\u001b[0m",
            "\u001b[0;31mNameError\u001b[0m                                 Traceback (most recent call last)",
            "\u001b[0;32m<ipython-input-34-99b2da1775a4>\u001b[0m in \u001b[0;36m<module>\u001b[0;34m()\u001b[0m\n\u001b[0;32m----> 1\u001b[0;31m \u001b[0mprint\u001b[0m \u001b[0;34m(\u001b[0m \u001b[0;34m\"fraction of moves accepted was:\"\u001b[0m\u001b[0;34m,\u001b[0m \u001b[0mfrac_accept\u001b[0m \u001b[0;34m)\u001b[0m\u001b[0;34m\u001b[0m\u001b[0;34m\u001b[0m\u001b[0m\n\u001b[0m",
            "\u001b[0;31mNameError\u001b[0m: name 'frac_accept' is not defined"
          ]
        }
      ]
    },
    {
      "cell_type": "code",
      "metadata": {
        "id": "wBxiilRZ741I"
      },
      "source": [
        "print (lattice_spin)"
      ],
      "execution_count": null,
      "outputs": []
    },
    {
      "cell_type": "code",
      "metadata": {
        "id": "5GsExTVKEXMh"
      },
      "source": [
        "print(accept_count/Nsteps)"
      ],
      "execution_count": null,
      "outputs": []
    },
    {
      "cell_type": "code",
      "metadata": {
        "id": "L6yokIuUFg6R"
      },
      "source": [
        ""
      ],
      "execution_count": null,
      "outputs": []
    }
  ]
}