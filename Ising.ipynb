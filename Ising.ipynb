{
  "nbformat": 4,
  "nbformat_minor": 0,
  "metadata": {
    "kernelspec": {
      "display_name": "Python 3",
      "language": "python",
      "name": "python3"
    },
    "language_info": {
      "codemirror_mode": {
        "name": "ipython",
        "version": 3
      },
      "file_extension": ".py",
      "mimetype": "text/x-python",
      "name": "python",
      "nbconvert_exporter": "python",
      "pygments_lexer": "ipython3",
      "version": "3.7.3"
    },
    "colab": {
      "name": "Ising.ipynb",
      "provenance": [],
      "include_colab_link": true
    }
  },
  "cells": [
    {
      "cell_type": "markdown",
      "metadata": {
        "id": "view-in-github",
        "colab_type": "text"
      },
      "source": [
        "<a href=\"https://colab.research.google.com/github/jhymel/2D-Ising-Model/blob/main/Ising.ipynb\" target=\"_parent\"><img src=\"https://colab.research.google.com/assets/colab-badge.svg\" alt=\"Open In Colab\"/></a>"
      ]
    },
    {
      "cell_type": "code",
      "metadata": {
        "id": "MPOg5cff741H"
      },
      "source": [
        "import numpy as np\n",
        "from numpy.random import randint as randint\n",
        "from numpy.random import rand as rand\n",
        "import matplotlib.pyplot as plt"
      ],
      "execution_count": 141,
      "outputs": []
    },
    {
      "cell_type": "code",
      "metadata": {
        "id": "GvTZ21tk741H"
      },
      "source": [
        "#J = 0.4407\n",
        "J=1\n",
        "beta = 0.6  # beta = 1 / (kB * T), work in these units\n",
        "N = 20   # 2D lattice is N x N\n",
        "Nsteps = 100000 # number of Montecarlo steps\n",
        "n_snap = 4 # number of snapshots to store, must be even number (see code below)\n",
        "freq_store = Nsteps/n_snap # frequency to store trajectory snapshot\n",
        "m_start = -1  # -1 = start all spin down, 0 = start random, +1 = start all spin up\n",
        "equil_fraction = 0.3 # throw out this fraction of initial simulation\n",
        "Nequil = int(equil_fraction*Nsteps)\n",
        "lattice_spin=[]\n",
        "freq_average = N**2"
      ],
      "execution_count": 163,
      "outputs": []
    },
    {
      "cell_type": "code",
      "metadata": {
        "id": "sHLMXX-M741I"
      },
      "source": [
        "# This gives the energy for spin Si, with lattice indices i_x, i_y, remember\n",
        "# Python indexing starts at 0, so 0 <= i_x, i_y <= (N-1)\n",
        "def Energy_Si(i_x,i_y):\n",
        "    Si = lattice_spin[i_x][i_y] # this is either up (+1) or down (-1)\n",
        "\n",
        "    # here we use a trick for periodic boundary conditions, i.e. so that\n",
        "    # spins on the edge of the lattice interact with spins at the start of\n",
        "    # the lattice.  To do this, we use the modulo operator \"%\", which gives\n",
        "    # remainder, and only affects the beginning and end spins in our usage\n",
        "    # we want the beginning spin 0 to interact with the last spin, N-1\n",
        "    # so we use the fact that N % N = 0, and (-1) % N = N - 1\n",
        "\n",
        "    Ei = 0.0 # initialize\n",
        "\n",
        "    Ei = Ei - J * Si * lattice_spin[(i_x+1)%N][i_y] # interaction with spin to the right \n",
        "    Ei = Ei - J * Si * lattice_spin[(i_x-1)%N][i_y] # interaction with spin to the left \n",
        "    Ei = Ei - J * Si * lattice_spin[i_x][(i_y+1)%N] # interaction with spin above \n",
        "    Ei = Ei - J * Si * lattice_spin[i_x][(i_y-1)%N] # interaction with spin below \n",
        "\n",
        "    return Ei\n",
        "\n",
        "def Energy_Total():\n",
        "    E_tot = 0.0\n",
        "    for i in range(N):\n",
        "        for j in range(N):\n",
        "            E_tot += Energy_Si(i,j)\n",
        "    E_tot /= 2\n",
        "\n",
        "    return E_tot\n"
      ],
      "execution_count": 164,
      "outputs": []
    },
    {
      "cell_type": "code",
      "metadata": {
        "id": "0-0H0oDu741I"
      },
      "source": [
        "plt.ioff()\n",
        "fig, axs = plt.subplots(int(n_snap/2), int(n_snap/2), figsize=(10,10), dpi=100)\n",
        "plt.close(fig)\n",
        "\n",
        "# Don't need to worry about the details here, just use it!\n",
        "def Store_Snapshot( i_snap, i_step ):\n",
        "    # we need to turn the \"lattice_spin\" list into a numpy array for plotting\n",
        "    spin_array = np.array(lattice_spin)\n",
        "    X, Y = np.meshgrid(range(N), range(N))\n",
        "    \n",
        "    ax = axs[(int(i_snap-1)//2)][(i_snap-1)%2]\n",
        "    plt.setp(ax.get_yticklabels(), visible=False)\n",
        "    plt.setp(ax.get_xticklabels(), visible=False)\n",
        "    ax.pcolormesh(X, Y, spin_array, cmap=plt.cm.RdBu)\n",
        "    ax.set_title('Moves=%d'%i_step)"
      ],
      "execution_count": 160,
      "outputs": []
    },
    {
      "cell_type": "code",
      "metadata": {
        "id": "JmRGjMss741I"
      },
      "source": [
        "if m_start == -1:  # initialize all spin down\n",
        "    lattice_spin=[[-1 for i_x in range(N)] for i_y in range(N)]\n",
        "elif m_start == 0: # initialize all random, this will fill either -1 or 1, since 2*randint(2) gives either 0 or 2.\n",
        "    lattice_spin=[[(2*randint(2)-1) for i_x in range(N)] for i_y in range(N)]\n",
        "elif m_start == 1: # initialize all spin up\n",
        "    lattice_spin=[[1 for i_x in range(N)] for i_y in range(N)]\n",
        "else:\n",
        "    print (\" value of m_start not recognized \")\n",
        "    sys.exit(0)"
      ],
      "execution_count": 161,
      "outputs": []
    },
    {
      "cell_type": "code",
      "metadata": {
        "colab": {
          "base_uri": "https://localhost:8080/",
          "height": 837
        },
        "id": "1Pn5epr6741I",
        "outputId": "8f56a2c4-8fbb-4376-845f-74a2cea9ac2b"
      },
      "source": [
        "#********************** Now use Monte Carlo to flip spins, run Nsteps number of MC moves\n",
        "accept_count= 0 # keep track of how many moves are accepted\n",
        "snap_count=0  # number of snapshots stored\n",
        "mag_t_sum = 0 # total magnetization across timesteps \n",
        "\n",
        "for i_step in range(Nsteps):\n",
        "    # randomly choose spin, given by lattice position i_x, i_y\n",
        "    i_x = randint(0,N) # this give 0<= i_x <= N-1\n",
        "    i_y = randint(0,N) # same comment\n",
        "    E_i = Energy_Si(i_x,i_y) # energy of spin in current state\n",
        "    E_f = -E_i   # flipping spin gives negative energy\n",
        "    deltaE = E_f - E_i # energy change for spin flip\n",
        "\n",
        "    # Metropolic Algorithm for accepting moves (detailed balance)\n",
        "    if deltaE < 0:  # accept move if it lowers system energy\n",
        "         lattice_spin[i_x][i_y] *= -1 # flip spin by multiplying current value by -1\n",
        "         accept_count += 1  #increment\n",
        "    else:\n",
        "         boltz=np.exp(-beta*deltaE)# boltzmann factor, use exponential from numpy  \n",
        "         randfrac=rand() # random real between [0,1)\n",
        "         if randfrac < boltz:  # accept move with this probability\n",
        "              lattice_spin[i_x][i_y] *= -1\n",
        "              accept_count += 1   #increment\n",
        "    \n",
        "    if i_step + 1 > Nequil:\n",
        "        mag_t_sum += np.sum(np.array(lattice_spin))\n",
        "    #********** ADD Any averaging here .... ****************\n",
        "    # need to define an averaging frequency call freq_average\n",
        "    if (i_step % freq_average) == 0:\n",
        "        # add to average\n",
        "        Energy_Total()\n",
        "        \n",
        "    # decide if we want to store snapshot, use modulo operator\n",
        "    # for some reason, the initial snapshot colors are weird, so skip this one...\n",
        "    if (i_step > 0 ) and ( (i_step == 1) or (i_step % freq_store == 0) ):\n",
        "         snap_count+=1\n",
        "         flag = Store_Snapshot(snap_count,i_step) \n",
        "\n",
        "mag_t_sum /= (Nsteps-Nequil)\n",
        "print(mag_t_sum)\n",
        "\n",
        "fig"
      ],
      "execution_count": 162,
      "outputs": [
        {
          "output_type": "stream",
          "text": [
            "-389.62931428571426\n"
          ],
          "name": "stdout"
        },
        {
          "output_type": "execute_result",
          "data": {
            "image/png": "[encoded data removed]",
            "text/plain": [
              "<Figure size 1000x1000 with 4 Axes>"
            ]
          },
          "metadata": {
            "tags": []
          },
          "execution_count": 162
        }
      ]
    },
    {
      "cell_type": "code",
      "metadata": {
        "colab": {
          "base_uri": "https://localhost:8080/"
        },
        "id": "wdxw8Fix741I",
        "outputId": "64f783e2-3efb-4fcf-a320-09ca2f80fbfe"
      },
      "source": [
        "print ( \"fraction of moves accepted was:\", frac_accept )\n"
      ],
      "execution_count": 7,
      "outputs": [
        {
          "output_type": "stream",
          "text": [
            "fraction of moves accepted was: 0.20474\n"
          ],
          "name": "stdout"
        }
      ]
    },
    {
      "cell_type": "code",
      "metadata": {
        "colab": {
          "base_uri": "https://localhost:8080/"
        },
        "id": "wBxiilRZ741I",
        "outputId": "c41faf89-b15d-446d-fd12-e49682eb01ff"
      },
      "source": [
        "print (lattice_spin)"
      ],
      "execution_count": 127,
      "outputs": [
        {
          "output_type": "stream",
          "text": [
            "[[1, 1, 1, 1, -1, 1, 1, 1, 1, 1, 1, 1, 1, 1, 1, 1, 1, 1, 1, 1], [1, 1, 1, 1, 1, 1, 1, 1, 1, 1, 1, 1, 1, 1, 1, 1, 1, 1, 1, 1], [1, 1, 1, 1, 1, 1, 1, 1, 1, 1, 1, 1, 1, 1, 1, 1, 1, 1, 1, 1], [1, 1, 1, 1, 1, 1, 1, 1, 1, 1, 1, 1, 1, 1, 1, 1, 1, 1, 1, 1], [1, 1, 1, 1, 1, 1, 1, 1, 1, 1, 1, 1, 1, 1, 1, 1, 1, 1, 1, 1], [1, 1, 1, 1, 1, 1, 1, 1, 1, 1, 1, 1, 1, 1, 1, 1, 1, 1, 1, 1], [1, 1, 1, 1, 1, 1, 1, 1, 1, 1, 1, 1, 1, 1, 1, 1, 1, 1, 1, 1], [1, 1, 1, 1, 1, 1, 1, 1, 1, 1, 1, 1, 1, 1, 1, 1, 1, 1, 1, 1], [1, 1, 1, 1, 1, 1, 1, 1, 1, 1, 1, 1, 1, 1, 1, 1, 1, 1, 1, 1], [1, 1, 1, 1, 1, 1, 1, 1, 1, 1, 1, 1, 1, 1, 1, 1, 1, 1, 1, 1], [1, 1, 1, 1, 1, 1, 1, 1, 1, 1, 1, 1, 1, 1, 1, 1, 1, 1, -1, 1], [1, 1, 1, 1, 1, 1, 1, 1, 1, 1, 1, 1, 1, 1, 1, 1, 1, 1, 1, 1], [1, 1, 1, 1, 1, 1, 1, 1, 1, 1, 1, 1, 1, 1, -1, 1, 1, 1, 1, 1], [1, 1, 1, 1, 1, 1, 1, 1, 1, 1, 1, 1, 1, 1, 1, 1, 1, 1, 1, 1], [1, 1, 1, 1, 1, 1, 1, 1, 1, 1, 1, 1, 1, 1, 1, 1, 1, 1, 1, 1], [1, 1, 1, 1, 1, 1, 1, 1, 1, 1, 1, 1, 1, 1, 1, 1, 1, 1, 1, 1], [1, 1, 1, 1, 1, 1, 1, 1, 1, 1, 1, 1, 1, 1, 1, 1, 1, 1, 1, 1], [1, 1, 1, 1, 1, 1, 1, 1, 1, 1, 1, 1, 1, 1, 1, 1, 1, 1, -1, 1], [1, 1, 1, 1, 1, 1, 1, 1, 1, 1, 1, 1, 1, 1, 1, 1, 1, 1, 1, 1], [1, 1, 1, 1, 1, 1, 1, 1, 1, -1, 1, 1, 1, 1, 1, 1, 1, 1, 1, 1]]\n"
          ],
          "name": "stdout"
        }
      ]
    },
    {
      "cell_type": "code",
      "metadata": {
        "colab": {
          "base_uri": "https://localhost:8080/"
        },
        "id": "5GsExTVKEXMh",
        "outputId": "9fb76163-6e68-48df-9280-6b0b183a5633"
      },
      "source": [
        "print(accept_count/Nsteps)"
      ],
      "execution_count": 128,
      "outputs": [
        {
          "output_type": "stream",
          "text": [
            "0.02491\n"
          ],
          "name": "stdout"
        }
      ]
    },
    {
      "cell_type": "code",
      "metadata": {
        "id": "L6yokIuUFg6R"
      },
      "source": [
        ""
      ],
      "execution_count": 129,
      "outputs": []
    }
  ]
}