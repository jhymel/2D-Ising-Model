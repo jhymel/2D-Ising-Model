{
  "nbformat": 4,
  "nbformat_minor": 0,
  "metadata": {
    "kernelspec": {
      "display_name": "Python 3",
      "language": "python",
      "name": "python3"
    },
    "language_info": {
      "codemirror_mode": {
        "name": "ipython",
        "version": 3
      },
      "file_extension": ".py",
      "mimetype": "text/x-python",
      "name": "python",
      "nbconvert_exporter": "python",
      "pygments_lexer": "ipython3",
      "version": "3.7.3"
    },
    "colab": {
      "name": "Ising.ipynb",
      "provenance": [],
      "include_colab_link": true
    }
  },
  "cells": [
    {
      "cell_type": "markdown",
      "metadata": {
        "id": "view-in-github",
        "colab_type": "text"
      },
      "source": [
        "<a href=\"https://colab.research.google.com/github/jhymel/2D-Ising-Model/blob/main/Ising_scan_beta.ipynb\" target=\"_parent\"><img src=\"https://colab.research.google.com/assets/colab-badge.svg\" alt=\"Open In Colab\"/></a>"
      ]
    },
    {
      "cell_type": "code",
      "metadata": {
        "id": "MPOg5cff741H"
      },
      "source": [
        "import numpy as np\n",
        "from numpy.random import randint as randint\n",
        "from numpy.random import rand as rand\n",
        "import matplotlib.pyplot as plt"
      ],
      "execution_count": 1,
      "outputs": []
    },
    {
      "cell_type": "code",
      "metadata": {
        "id": "GvTZ21tk741H"
      },
      "source": [
        "#J = 0.4407\n",
        "J=1.0\n",
        "beta = 0.5  # beta = 1 / (kB * T), work in these units\n",
        "N = 20   # 2D lattice is N x N\n",
        "Ncycles = int(1000000/(20*20)) # 2500 Montecarlo cycles\n",
        "#Nsteps = Ncycles*(N*N) # number of Montecarlo steps\n",
        "Nsteps = 1000000\n",
        "n_snap = 4 # number of snapshots to store, must be even number (see code below)\n",
        "freq_store = Nsteps/n_snap # frequency to store trajectory snapshot\n",
        "m_start = -1  # -1 = start all spin down, 0 = start random, +1 = start all spin up\n",
        "equil_fraction = 0.3 # throw out this fraction of initial simulation\n",
        "Nequil = int(equil_fraction*Nsteps)\n",
        "lattice_spin=[]\n",
        "freq_average = N**2"
      ],
      "execution_count": 2,
      "outputs": []
    },
    {
      "cell_type": "code",
      "metadata": {
        "id": "sHLMXX-M741I"
      },
      "source": [
        "# This gives the energy for spin Si, with lattice indices i_x, i_y, remember\n",
        "# Python indexing starts at 0, so 0 <= i_x, i_y <= (N-1)\n",
        "def Energy_Si(i_x,i_y):\n",
        "    Si = lattice_spin[i_x][i_y] # this is either up (+1) or down (-1)\n",
        "\n",
        "    # here we use a trick for periodic boundary conditions, i.e. so that\n",
        "    # spins on the edge of the lattice interact with spins at the start of\n",
        "    # the lattice.  To do this, we use the modulo operator \"%\", which gives\n",
        "    # remainder, and only affects the beginning and end spins in our usage\n",
        "    # we want the beginning spin 0 to interact with the last spin, N-1\n",
        "    # so we use the fact that N % N = 0, and (-1) % N = N - 1\n",
        "\n",
        "    Ei = 0.0 # initialize\n",
        "\n",
        "    Ei = Ei - J * Si * lattice_spin[(i_x+1)%N][i_y] # interaction with spin to the right \n",
        "    Ei = Ei - J * Si * lattice_spin[(i_x-1)%N][i_y] # interaction with spin to the left \n",
        "    Ei = Ei - J * Si * lattice_spin[i_x][(i_y+1)%N] # interaction with spin above \n",
        "    Ei = Ei - J * Si * lattice_spin[i_x][(i_y-1)%N] # interaction with spin below \n",
        "\n",
        "    return Ei\n"
      ],
      "execution_count": 3,
      "outputs": []
    },
    {
      "cell_type": "code",
      "metadata": {
        "id": "qn1k8zVg1qBc"
      },
      "source": [
        "# This gives the total system energy by summing up all pairwise spin energies\n",
        "def Energy_Total():\n",
        "    E_tot = 0.0\n",
        "    for i in range(N):\n",
        "        for j in range(N):\n",
        "            E_tot += Energy_Si(i,j)\n",
        "    E_tot /= 2\n",
        "\n",
        "    return E_tot"
      ],
      "execution_count": 4,
      "outputs": []
    },
    {
      "cell_type": "code",
      "metadata": {
        "id": "0-0H0oDu741I"
      },
      "source": [
        "plt.ioff()\n",
        "fig, axs = plt.subplots(int(n_snap/2), int(n_snap/2), figsize=(10,10), dpi=100)\n",
        "plt.close(fig)\n",
        "\n",
        "# Don't need to worry about the details here, just use it!\n",
        "def Store_Snapshot( i_snap, i_step ):\n",
        "    # we need to turn the \"lattice_spin\" list into a numpy array for plotting\n",
        "    spin_array = np.array(lattice_spin)\n",
        "    X, Y = np.meshgrid(range(N), range(N))\n",
        "    \n",
        "    ax = axs[(int(i_snap-1)//2)][(i_snap-1)%2]\n",
        "    plt.setp(ax.get_yticklabels(), visible=False)\n",
        "    plt.setp(ax.get_xticklabels(), visible=False)\n",
        "    ax.pcolormesh(X, Y, spin_array, cmap=plt.cm.RdBu)\n",
        "    ax.set_title('Moves=%d'%i_step)"
      ],
      "execution_count": 5,
      "outputs": []
    },
    {
      "cell_type": "code",
      "metadata": {
        "id": "JmRGjMss741I"
      },
      "source": [
        "if m_start == -1:  # initialize all spin down\n",
        "    lattice_spin=[[-1 for i_x in range(N)] for i_y in range(N)]\n",
        "elif m_start == 0: # initialize all random, this will fill either -1 or 1, since 2*randint(2) gives either 0 or 2.\n",
        "    lattice_spin=[[(2*randint(2)-1) for i_x in range(N)] for i_y in range(N)]\n",
        "elif m_start == 1: # initialize all spin up\n",
        "    lattice_spin=[[1 for i_x in range(N)] for i_y in range(N)]\n",
        "else:\n",
        "    print (\" value of m_start not recognized \")\n",
        "    sys.exit(0)"
      ],
      "execution_count": 6,
      "outputs": []
    },
    {
      "cell_type": "code",
      "metadata": {
        "colab": {
          "base_uri": "https://localhost:8080/",
          "height": 231
        },
        "id": "1Pn5epr6741I",
        "outputId": "65ec5446-c0fe-469c-c189-67f15adfea02"
      },
      "source": [
        "#********************** Now use Monte Carlo to flip spins, run Nsteps number of MC moves\n",
        "accept_count= 0 # keep track of how many moves are accepted\n",
        "snap_count=0  # number of snapshots stored\n",
        "mag_t_sum = 0 # total magnetization across timesteps \n",
        "energy_t_sum = 0 # total energy across timesteps\n",
        "energy_squared_t_sum = 0 # total energy^2 across timesteps\n",
        "\n",
        "for i_step in range(Nsteps):\n",
        "    # randomly choose spin, given by lattice position i_x, i_y\n",
        "    i_x = randint(0,N) # this give 0<= i_x <= N-1\n",
        "    i_y = randint(0,N) # same comment\n",
        "    E_i = Energy_Si(i_x,i_y) # energy of spin in current state\n",
        "    E_f = -E_i   # flipping spin gives negative energy\n",
        "    deltaE = E_f - E_i # energy change for spin flip\n",
        "\n",
        "    # Metropolic Algorithm for accepting moves (detailed balance)\n",
        "    if deltaE < 0:  # accept move if it lowers system energy\n",
        "         lattice_spin[i_x][i_y] *= -1 # flip spin by multiplying current value by -1\n",
        "         accept_count += 1  #increment\n",
        "    else:\n",
        "         boltz=np.exp(-beta*deltaE)# boltzmann factor, use exponential from numpy  \n",
        "         randfrac=rand() # random real between [0,1)\n",
        "         if randfrac < boltz:  # accept move with this probability\n",
        "              lattice_spin[i_x][i_y] *= -1\n",
        "              accept_count += 1   #increment\n",
        "    \n",
        "    if i_step + 1 > Nequil:\n",
        "        mag_t_sum += np.sum(np.array(lattice_spin))/(N**2)\n",
        "    #********** ADD Any averaging here .... ****************\n",
        "    # need to define an averaging frequency call freq_average\n",
        "    if (i_step % freq_average) == 0:\n",
        "        # add to average\n",
        "        energy_t_sum += Energy_Total()/(N**2)\n",
        "        energy_squared_t_sum += (Energy_Total()*Energy_Total())/(N**4)\n",
        "        \n",
        "    # decide if we want to store snapshot, use modulo operator\n",
        "    # for some reason, the initial snapshot colors are weird, so skip this one...\n",
        "    if (i_step > 0 ) and ( (i_step == 1) or (i_step % freq_store == 0) ):\n",
        "         snap_count+=1\n",
        "         flag = Store_Snapshot(snap_count,i_step) \n",
        "\n",
        "mag_t_sum /= (Nsteps-Nequil)\n",
        "mag_per_spin = mag_t_sum\n",
        "energy_t_sum /= (Nsteps/freq_average)\n",
        "energy_per_spin = energy_t_sum\n",
        "energy_squared_t_sum /= (Nsteps/freq_average)\n",
        "energy_squared_per_spin = energy_squared_t_sum\n",
        "print(Energy_Total())\n",
        "print(mag_t_sum)\n",
        "print(mag_per_spin)\n",
        "print(energy_per_spin)\n",
        "print(energy_squared_per_spin)\n",
        "\n",
        "fig"
      ],
      "execution_count": 7,
      "outputs": [
        {
          "output_type": "error",
          "ename": "KeyboardInterrupt",
          "evalue": "ignored",
          "traceback": [
            "\u001b[0;31m---------------------------------------------------------------------------\u001b[0m",
            "\u001b[0;31mKeyboardInterrupt\u001b[0m                         Traceback (most recent call last)",
            "\u001b[0;32m<ipython-input-7-664478774e11>\u001b[0m in \u001b[0;36m<module>\u001b[0;34m()\u001b[0m\n\u001b[1;32m     26\u001b[0m \u001b[0;34m\u001b[0m\u001b[0m\n\u001b[1;32m     27\u001b[0m     \u001b[0;32mif\u001b[0m \u001b[0mi_step\u001b[0m \u001b[0;34m+\u001b[0m \u001b[0;36m1\u001b[0m \u001b[0;34m>\u001b[0m \u001b[0mNequil\u001b[0m\u001b[0;34m:\u001b[0m\u001b[0;34m\u001b[0m\u001b[0;34m\u001b[0m\u001b[0m\n\u001b[0;32m---> 28\u001b[0;31m         \u001b[0mmag_t_sum\u001b[0m \u001b[0;34m+=\u001b[0m \u001b[0mnp\u001b[0m\u001b[0;34m.\u001b[0m\u001b[0msum\u001b[0m\u001b[0;34m(\u001b[0m\u001b[0mnp\u001b[0m\u001b[0;34m.\u001b[0m\u001b[0marray\u001b[0m\u001b[0;34m(\u001b[0m\u001b[0mlattice_spin\u001b[0m\u001b[0;34m)\u001b[0m\u001b[0;34m)\u001b[0m\u001b[0;34m/\u001b[0m\u001b[0;34m(\u001b[0m\u001b[0mN\u001b[0m\u001b[0;34m**\u001b[0m\u001b[0;36m2\u001b[0m\u001b[0;34m)\u001b[0m\u001b[0;34m\u001b[0m\u001b[0;34m\u001b[0m\u001b[0m\n\u001b[0m\u001b[1;32m     29\u001b[0m     \u001b[0;31m#********** ADD Any averaging here .... ****************\u001b[0m\u001b[0;34m\u001b[0m\u001b[0;34m\u001b[0m\u001b[0;34m\u001b[0m\u001b[0m\n\u001b[1;32m     30\u001b[0m     \u001b[0;31m# need to define an averaging frequency call freq_average\u001b[0m\u001b[0;34m\u001b[0m\u001b[0;34m\u001b[0m\u001b[0;34m\u001b[0m\u001b[0m\n",
            "\u001b[0;31mKeyboardInterrupt\u001b[0m: "
          ]
        }
      ]
    },
    {
      "cell_type": "code",
      "metadata": {
        "colab": {
          "base_uri": "https://localhost:8080/",
          "height": 166
        },
        "id": "wdxw8Fix741I",
        "outputId": "29e09609-79fd-42aa-e5a1-cc4a4a9faf18"
      },
      "source": [
        "print ( \"fraction of moves accepted was:\", frac_accept )\n"
      ],
      "execution_count": null,
      "outputs": [
        {
          "output_type": "error",
          "ename": "NameError",
          "evalue": "ignored",
          "traceback": [
            "\u001b[0;31m---------------------------------------------------------------------------\u001b[0m",
            "\u001b[0;31mNameError\u001b[0m                                 Traceback (most recent call last)",
            "\u001b[0;32m<ipython-input-34-99b2da1775a4>\u001b[0m in \u001b[0;36m<module>\u001b[0;34m()\u001b[0m\n\u001b[0;32m----> 1\u001b[0;31m \u001b[0mprint\u001b[0m \u001b[0;34m(\u001b[0m \u001b[0;34m\"fraction of moves accepted was:\"\u001b[0m\u001b[0;34m,\u001b[0m \u001b[0mfrac_accept\u001b[0m \u001b[0;34m)\u001b[0m\u001b[0;34m\u001b[0m\u001b[0;34m\u001b[0m\u001b[0m\n\u001b[0m",
            "\u001b[0;31mNameError\u001b[0m: name 'frac_accept' is not defined"
          ]
        }
      ]
    },
    {
      "cell_type": "code",
      "metadata": {
        "id": "wBxiilRZ741I"
      },
      "source": [
        "def run_sim(beta,J):\n",
        "    #********************** Now use Monte Carlo to flip spins, run Nsteps number of MC moves\n",
        "    accept_count= 0 # keep track of how many moves are accepted\n",
        "    snap_count=0  # number of snapshots stored\n",
        "    mag_t_sum = 0 # total magnetization across timesteps \n",
        "    energy_t_sum = 0 # total energy across timesteps\n",
        "    energy_squared_t_sum = 0 # total energy^2 across timesteps\n",
        "\n",
        "    for i_step in range(Nsteps):\n",
        "        # randomly choose spin, given by lattice position i_x, i_y\n",
        "        i_x = randint(0,N) # this give 0<= i_x <= N-1\n",
        "        i_y = randint(0,N) # same comment\n",
        "        E_i = Energy_Si(i_x,i_y) # energy of spin in current state\n",
        "        E_f = -E_i   # flipping spin gives negative energy\n",
        "        deltaE = E_f - E_i # energy change for spin flip\n",
        "\n",
        "        # Metropolic Algorithm for accepting moves (detailed balance)\n",
        "        if deltaE < 0:  # accept move if it lowers system energy\n",
        "             lattice_spin[i_x][i_y] *= -1 # flip spin by multiplying current value by -1\n",
        "             accept_count += 1  #increment\n",
        "        else:\n",
        "            boltz=np.exp(-beta*deltaE)# boltzmann factor, use exponential from numpy  \n",
        "            randfrac=rand() # random real between [0,1)\n",
        "            if randfrac < boltz:  # accept move with this probability\n",
        "                  lattice_spin[i_x][i_y] *= -1\n",
        "                  accept_count += 1   #increment\n",
        "    \n",
        "        if i_step + 1 > Nequil:\n",
        "            mag_t_sum += np.sum(np.array(lattice_spin))/(N**2)\n",
        "        #********** ADD Any averaging here .... ****************\n",
        "        # need to define an averaging frequency call freq_average\n",
        "        if (i_step % freq_average) == 0:\n",
        "            # add to average\n",
        "            energy_t_sum += Energy_Total()/(N**2)\n",
        "            energy_squared_t_sum += (Energy_Total()*Energy_Total())/(N**4)\n",
        "        \n",
        "        # decide if we want to store snapshot, use modulo operator\n",
        "        # for some reason, the initial snapshot colors are weird, so skip this one...\n",
        "        if (i_step > 0 ) and ( (i_step == 1) or (i_step % freq_store == 0) ):\n",
        "            snap_count+=1\n",
        "            flag = Store_Snapshot(snap_count,i_step) \n",
        "\n",
        "    mag_t_sum /= (Nsteps-Nequil)\n",
        "    mag_per_spin = mag_t_sum\n",
        "    energy_t_sum /= (Nsteps/freq_average)\n",
        "    energy_per_spin = energy_t_sum\n",
        "    energy_squared_t_sum /= (Nsteps/freq_average)\n",
        "    energy_squared_per_spin = energy_squared_t_sum\n",
        "    print(beta,mag_per_spin,energy_per_spin,energy_squared_per_spin,'\\t')"
      ],
      "execution_count": 7,
      "outputs": []
    },
    {
      "cell_type": "code",
      "metadata": {
        "id": "5GsExTVKEXMh"
      },
      "source": [
        "BJ_list = [0.1,0.2,0.3,0.4,0.42,0.44,0.445,0.45,0.455,0.46,0.48,0.5,0.52,0.54,0.56,0.6,0.7,0.8,0.9]\n",
        "val_list = np.linspace(0.44,0.444,30)"
      ],
      "execution_count": 8,
      "outputs": []
    },
    {
      "cell_type": "code",
      "metadata": {
        "id": "L6yokIuUFg6R",
        "colab": {
          "base_uri": "https://localhost:8080/"
        },
        "outputId": "645abc6b-0978-489d-c7c6-30de8ae7ec2d"
      },
      "source": [
        "for i in val_list:\n",
        "    beta,J = (i,1)\n",
        "    run_sim(beta,J)\n",
        "    run_sim(beta,J)\n",
        "    run_sim(beta,J)\n",
        "    run_sim(beta,J)"
      ],
      "execution_count": 9,
      "outputs": [
        {
          "output_type": "stream",
          "text": [
            "0.44 0.3985507071428421 -1.4300080000000006 2.065498000000003 \t\n",
            "0.44 0.59528615714289 -1.4018000000000004 1.9876371200000078 \t\n",
            "0.44 0.716020835714367 -1.454444000000001 2.1333969200000023 \t\n",
            "0.44 0.5488581857144568 -1.4020479999999997 1.9876343200000057 \t\n",
            "0.4401379310344828 0.7305594999997449 -1.475044000000001 2.192308520000001 \t\n",
            "0.4401379310344828 0.6453359714285493 -1.4298760000000037 2.065803240000008 \t\n",
            "0.4401379310344828 0.6974790571428992 -1.4562479999999984 2.1402335199999967 \t\n",
            "0.4401379310344828 0.7484042714285482 -1.4558039999999994 2.1379510000000015 \t\n",
            "0.4402758620689655 0.6925314000001301 -1.4444200000000023 2.1064688400000136 \t\n",
            "0.4402758620689655 -0.5221834357142414 -1.4489120000000066 2.119193600000006 \t\n",
            "0.4402758620689655 0.691094649999964 -1.4526560000000022 2.1297368799999994 \t\n",
            "0.4402758620689655 0.7401070642856045 -1.4706200000000034 2.178019160000003 \t\n",
            "0.4404137931034483 -0.47118605714277356 -1.4463680000000005 2.1141038400000003 \t\n",
            "0.4404137931034483 0.641455399999836 -1.4166119999999984 2.028008680000005 \t\n",
            "0.4404137931034483 0.7388311357140863 -1.463192 2.15637624000001 \t\n",
            "0.4404137931034483 0.48473312857153483 -1.4470439999999964 2.1153382000000063 \t\n",
            "0.44055172413793103 0.761391792856871 -1.464411999999998 2.1628322000000093 \t\n",
            "0.44055172413793103 -0.7193137785714525 -1.4488520000000005 2.1178570799999963 \t\n",
            "0.44055172413793103 -0.6435479999998416 -1.4493839999999976 2.1237409600000023 \t\n",
            "0.44055172413793103 0.14953378571422452 -1.4612520000000009 2.1547102800000024 \t\n",
            "0.4406896551724138 -0.7138048499999935 -1.452523999999999 2.128752760000005 \t\n",
            "0.4406896551724138 -0.7555466642856957 -1.4604079999999982 2.1500743999999963 \t\n",
            "0.4406896551724138 -0.7578177928570116 -1.4799679999999993 2.2094687200000065 \t\n",
            "0.4406896551724138 -0.590502707142874 -1.4090080000000016 2.0096743999999953 \t\n",
            "0.44082758620689655 -0.7675832857141927 -1.4766240000000017 2.2003671200000072 \t\n",
            "0.44082758620689655 -0.7329425142856636 -1.464055999999998 2.1645787200000006 \t\n",
            "0.44082758620689655 -0.7265272499999635 -1.4335719999999972 2.076897560000008 \t\n",
            "0.44082758620689655 -0.5543449000001542 -1.4005559999999977 1.9879804400000074 \t\n",
            "0.44096551724137933 0.3799978071427924 -1.4593320000000012 2.1517345200000078 \t\n",
            "0.44096551724137933 0.39403935714297106 -1.4601319999999993 2.151692279999998 \t\n",
            "0.44096551724137933 0.7814325785714468 -1.4821760000000015 2.213865360000003 \t\n",
            "0.44096551724137933 -0.49692437857142907 -1.46236 2.155690400000005 \t\n",
            "0.44110344827586206 0.46789748571426215 -1.464391999999998 2.165689920000004 \t\n",
            "0.44110344827586206 0.7136325928572532 -1.4622080000000033 2.156138400000004 \t\n",
            "0.44110344827586206 0.6851084071427795 -1.4233440000000006 2.048691280000001 \t\n",
            "0.44110344827586206 -0.7151953785714743 -1.4332279999999988 2.077981640000006 \t\n",
            "0.44124137931034485 -0.6903045142854892 -1.458003999999999 2.144889400000003 \t\n",
            "0.44124137931034485 -0.08349254285714029 -1.4359680000000008 2.0816086400000113 \t\n",
            "0.44124137931034485 0.6980766857143096 -1.4635639999999994 2.1623434800000125 \t\n",
            "0.44124137931034485 0.7540730142858089 -1.4660520000000026 2.1668954800000093 \t\n",
            "0.4413793103448276 0.7610004357143583 -1.4842280000000019 2.2193144399999967 \t\n",
            "0.4413793103448276 0.6472563571429528 -1.4234919999999986 2.048976999999998 \t\n",
            "0.4413793103448276 -0.7564174714284351 -1.457439999999998 2.143870160000005 \t\n",
            "0.4413793103448276 -0.7225377500002655 -1.462559999999999 2.1567696000000027 \t\n",
            "0.44151724137931037 -0.7269260928569982 -1.4448280000000029 2.1044085200000064 \t\n",
            "0.44151724137931037 -0.5625503214285418 -1.439776 2.096423199999996 \t\n",
            "0.44151724137931037 0.7341735500000222 -1.4626919999999985 2.1605136399999996 \t\n",
            "0.44151724137931037 -0.7777875714282966 -1.4828279999999985 2.2192629200000034 \t\n",
            "0.4416551724137931 -0.5224178642857772 -1.4676080000000016 2.174156240000003 \t\n",
            "0.4416551724137931 0.745440799999937 -1.4628759999999987 2.157157640000009 \t\n",
            "0.4416551724137931 -0.6979827214285902 -1.4480279999999957 2.118230040000002 \t\n",
            "0.4416551724137931 -0.5421652714285519 -1.4365880000000002 2.0852526799999946 \t\n",
            "0.4417931034482759 -0.3866588785714971 -1.4494680000000009 2.1226893199999988 \t\n",
            "0.4417931034482759 0.7127901571427179 -1.458579999999997 2.148372440000006 \t\n",
            "0.4417931034482759 0.5741116571429042 -1.389127999999998 1.950762480000005 \t\n",
            "0.4417931034482759 0.5510672714285609 -1.4204879999999949 2.0397331200000086 \t\n",
            "0.4419310344827586 -0.2588233428571552 -1.402796 1.989734920000007 \t\n",
            "0.4419310344827586 -0.7497670642856753 -1.4924720000000002 2.246294800000006 \t\n",
            "0.4419310344827586 -0.722235478571511 -1.4730840000000014 2.189344120000008 \t\n",
            "0.4419310344827586 -0.7487337071427588 -1.4835720000000017 2.2175580400000072 \t\n",
            "0.4420689655172414 0.5065626714285296 -1.4589320000000008 2.146152360000009 \t\n",
            "0.4420689655172414 0.6738470857143343 -1.4489999999999996 2.1216313600000105 \t\n",
            "0.4420689655172414 0.7073583071426677 -1.4738079999999985 2.193711200000001 \t\n",
            "0.4420689655172414 0.7349447642855744 -1.4625719999999975 2.154996280000007 \t\n",
            "0.4422068965517241 0.7340084428570457 -1.4634800000000003 2.1614500000000034 \t\n",
            "0.4422068965517241 0.5416022357142728 -1.4592319999999994 2.1498236800000083 \t\n",
            "0.4422068965517241 -0.7188889571428201 -1.4774439999999978 2.2008476400000103 \t\n",
            "0.4422068965517241 0.6014252285714896 -1.4244159999999975 2.0537608000000067 \t\n",
            "0.4423448275862069 0.7222434928571094 -1.45452 2.1344706400000004 \t\n",
            "0.4423448275862069 -0.7746786357140382 -1.4846160000000002 2.2230099200000035 \t\n",
            "0.4423448275862069 -0.7423041428569692 -1.4802599999999981 2.2107005200000076 \t\n",
            "0.4423448275862069 0.7594230142855071 -1.4643999999999986 2.1632039199999977 \t\n",
            "0.44248275862068964 0.7404679499999167 -1.4845200000000005 2.2227165600000025 \t\n",
            "0.44248275862068964 0.7644610571428389 -1.4857439999999975 2.221566640000006 \t\n",
            "0.44248275862068964 0.7546974999999689 -1.488928000000001 2.235517919999997 \t\n",
            "0.44248275862068964 0.7072490714285028 -1.4659360000000035 2.167948240000004 \t\n",
            "0.44262068965517243 0.20292067142859346 -1.3940319999999988 1.966447520000009 \t\n",
            "0.44262068965517243 -0.6041369999999863 -1.4420400000000013 2.0987564800000036 \t\n",
            "0.44262068965517243 -0.743513749999755 -1.4821680000000017 2.2161855200000047 \t\n",
            "0.44262068965517243 -0.7129554785715827 -1.4754039999999977 2.19851636 \t\n",
            "0.44275862068965516 -0.7470696500000178 -1.4724719999999967 2.1852645599999976 \t\n",
            "0.44275862068965516 -0.7323659071427789 -1.468432000000002 2.1754891200000044 \t\n",
            "0.44275862068965516 -0.6278864428569569 -1.4524639999999984 2.130845600000001 \t\n",
            "0.44275862068965516 0.7391147214285768 -1.4743080000000017 2.1894111599999957 \t\n",
            "0.44289655172413794 0.7438685642857565 -1.4724920000000008 2.1856267600000026 \t\n",
            "0.44289655172413794 0.6143827714285192 -1.4616400000000012 2.159210960000004 \t\n",
            "0.44289655172413794 0.7163464285713647 -1.4711719999999988 2.182327240000006 \t\n",
            "0.44289655172413794 -0.3172493571428539 -1.4504399999999975 2.1211496800000043 \t\n",
            "0.4430344827586207 -0.7459045500000492 -1.4794559999999997 2.206256320000003 \t\n",
            "0.4430344827586207 -0.3116286142856397 -1.4658280000000035 2.1684155600000024 \t\n",
            "0.4430344827586207 0.6852718428572477 -1.4646600000000005 2.1667506000000136 \t\n",
            "0.4430344827586207 0.6548951928571585 -1.440191999999997 2.0947206399999994 \t\n",
            "0.44317241379310346 0.41077160714262173 -1.4375360000000013 2.088821359999997 \t\n",
            "0.44317241379310346 -0.7629625214285498 -1.4876960000000004 2.2327244000000017 \t\n",
            "0.44317241379310346 -0.7330825357141098 -1.4344599999999994 2.0789482799999996 \t\n",
            "0.44317241379310346 -0.7469777142857719 -1.480599999999999 2.21033384000001 \t\n",
            "0.4433103448275862 -0.598513250000154 -1.4098880000000003 2.0099599200000093 \t\n",
            "0.4433103448275862 0.18798872142871256 -1.4209640000000012 2.040115800000006 \t\n",
            "0.4433103448275862 -0.7664727428566421 -1.4759840000000017 2.194347040000001 \t\n",
            "0.4433103448275862 -0.02271087857141259 -1.4530760000000016 2.1348815600000073 \t\n",
            "0.443448275862069 0.6781652357141481 -1.4385319999999997 2.0915914000000004 \t\n",
            "0.443448275862069 0.5521246499999969 -1.4276200000000032 2.0598634799999904 \t\n",
            "0.443448275862069 0.7570796142854909 -1.4747920000000012 2.1934096800000025 \t\n",
            "0.443448275862069 0.7588169142856537 -1.4971240000000041 2.256198760000006 \t\n",
            "0.4435862068965517 0.2562005499999164 -1.4610319999999977 2.1552923999999973 \t\n",
            "0.4435862068965517 0.6896407500000922 -1.4479360000000006 2.116478880000012 \t\n",
            "0.4435862068965517 -0.7697471642856142 -1.488727999999999 2.234152319999999 \t\n",
            "0.4435862068965517 -0.6219845571428977 -1.454400000000001 2.1374022399999983 \t\n",
            "0.4437241379310345 -0.7318478500002229 -1.482764000000001 2.216077560000002 \t\n",
            "0.4437241379310345 0.7444402999998133 -1.4542279999999999 2.1356490000000066 \t\n",
            "0.4437241379310345 0.7311384071428253 -1.4749479999999997 2.193042200000008 \t\n",
            "0.4437241379310345 0.7680860571429218 -1.4770080000000019 2.2023167200000056 \t\n",
            "0.4438620689655172 0.34401609285721935 -1.461256000000001 2.158191280000002 \t\n",
            "0.4438620689655172 -0.6624111500000784 -1.4711800000000006 2.1867968400000106 \t\n",
            "0.4438620689655172 0.16211278571428586 -1.492888000000003 2.246434960000007 \t\n",
            "0.4438620689655172 -0.7410194000000212 -1.4620959999999998 2.154831120000008 \t\n",
            "0.444 -0.7345151857142381 -1.468547999999998 2.175102600000007 \t\n",
            "0.444 -0.7352137214285189 -1.490044000000001 2.243558040000007 \t\n",
            "0.444 0.3820753357142492 -1.4689399999999988 2.178605319999999 \t\n",
            "0.444 0.4302744571429444 -1.4438160000000004 2.1070545600000123 \t\n"
          ],
          "name": "stdout"
        }
      ]
    },
    {
      "cell_type": "code",
      "metadata": {
        "id": "O5RZJZ9LIkyc"
      },
      "source": [
        ""
      ],
      "execution_count": null,
      "outputs": []
    }
  ]
}